{
 "cells": [
  {
   "cell_type": "markdown",
   "metadata": {},
   "source": [
    "# Module 12 Challenge\n",
    "## Deliverable 1: Scrape Titles and Preview Text from Mars News"
   ]
  },
  {
   "cell_type": "code",
   "execution_count": 29,
   "metadata": {},
   "outputs": [],
   "source": [
    "# Import Splinter and BeautifulSoup\n",
    "from splinter import Browser\n",
    "from bs4 import BeautifulSoup \n",
    "from webdriver_manager.chrome import ChromeDriverManager"
   ]
  },
  {
   "cell_type": "code",
   "execution_count": 30,
   "metadata": {
    "scrolled": true
   },
   "outputs": [],
   "source": [
    "executable_path = {'executable_path': ChromeDriverManager().install()}\n",
    "browser = Browser('chrome', **executable_path, headless=True)"
   ]
  },
  {
   "cell_type": "markdown",
   "metadata": {},
   "source": [
    "### Step 1: Visit the Website\n",
    "\n",
    "1. Use automated browsing to visit the [Mars NASA news site](https://redplanetscience.com). Inspect the page to identify which elements to scrape.\n",
    "\n",
    "      > **Hint** To identify which elements to scrape, you might want to inspect the page by using Chrome DevTools."
   ]
  },
  {
   "cell_type": "code",
   "execution_count": 34,
   "metadata": {},
   "outputs": [],
   "source": [
    "# Visit the Mars NASA news site: https://redplanetscience.com\n",
    "url = \"https://redplanetscience.com\"\n",
    "browser.visit(url)\n"
   ]
  },
  {
   "cell_type": "markdown",
   "metadata": {},
   "source": [
    "### Step 2: Scrape the Website\n",
    "\n",
    "Create a Beautiful Soup object and use it to extract text elements from the website."
   ]
  },
  {
   "cell_type": "code",
   "execution_count": 35,
   "metadata": {},
   "outputs": [
    {
     "data": {
      "text/plain": [
       "'<html>\\n <head>\\n  <meta charset=\"utf-8\"/>\\n  <meta content=\"width=device-width, initial-scale=1\" name=\"viewport\"/>\\n  <link crossorigin=\"anonymous\" href=\"https://cdn.jsdelivr.net/npm/bootstrap@5.0.0-beta1/dist/css/bootstrap.min.css\" integrity=\"sha384-giJF6kkoqNQ00vy+HMDP7azOuL0xtbfIcaT9wjKHr8RbDVddVHyTfAAsrekwKmP1\" rel=\"stylesheet\"/>\\n  <link href=\"css/font.css\" rel=\"stylesheet\" type=\"text/css\"/>\\n  <link href=\"css/app.css\" rel=\"stylesheet\" type=\"text/css\"/>\\n  <link crossorigin=\"anonymous\" href=\"https://pro.fontawesome.com/releases/v5.10.0/css/all.css\" integrity=\"sha384-AYmEC3Yw5cVb3ZcuHtOA93w35dYTsvhLPVnYs9eStHfGJvOvKxVfELGroGkvsg+p\" rel=\"stylesheet\"/>\\n  <title>\\n   News - Mars Exploration Program\\n  </title>\\n </head>\\n <body>\\n  <div class=\"col-md-12\">\\n   <div class=\"row\">\\n    <nav class=\"navbar navbar-expand-lg navbar-light fixed-top\">\\n     <div class=\"container-fluid\">\\n      <a class=\"navbar-brand\" href=\"#\">\\n       <img src=\"image/nasa.png\" width=\"80\"/>\\n       <span class=\"logo\">\\n        MARS Planet Science\\n       </span>\\n       <span class=\"logo1\">\\n        Exploration Program\\n       </span>\\n      </a>\\n      <button aria-controls=\"navbarNav\" aria-expanded=\"false\" aria-label=\"Toggle navigation\" class=\"navbar-toggler\" data-bs-target=\"#navbarNav\" data-bs-toggle=\"collapse\" type=\"button\">\\n       <span class=\"navbar-toggler-icon\">\\n       </span>\\n      </button>\\n      <div class=\"collapse navbar-collapse justify-content-end\" id=\"navbarNav\">\\n       <ul class=\"navbar-nav\">\\n        <li class=\"nav-item\">\\n         <a aria-current=\"page\" class=\"nav-link active\" href=\"#\">\\n          The Red Planet\\n         </a>\\n        </li>\\n        <li class=\"nav-item\">\\n         <a class=\"nav-link\" href=\"#\">\\n          The Program\\n         </a>\\n        </li>\\n        <li class=\"nav-item\">\\n         <a class=\"nav-link\" href=\"#\">\\n          News &amp; Events\\n         </a>\\n        </li>\\n        <li class=\"nav-item\">\\n         <a class=\"nav-link\" href=\"#\">\\n          Multimedia\\n         </a>\\n        </li>\\n        <li class=\"nav-item\">\\n         <a class=\"nav-link\" href=\"#\">\\n          Missions\\n         </a>\\n        </li>\\n        <li class=\"nav-item\">\\n         <a class=\"nav-link\" href=\"#\">\\n          More\\n         </a>\\n        </li>\\n        <li class=\"nav-item nav_search\">\\n         <a class=\"nav-link\" href=\"#\">\\n         </a>\\n        </li>\\n       </ul>\\n      </div>\\n     </div>\\n    </nav>\\n    <section class=\"search\">\\n     <div class=\"container\">\\n      <h1>\\n       News\\n      </h1>\\n      <div class=\"col-md-12 filter\">\\n       <div class=\"row\">\\n        <div class=\"col-md-3 search_binder\">\\n         <input class=\"search_field\" name=\"search\" type=\"text\"/>\\n         <input class=\"search_submit\" name=\"search\" type=\"text\"/>\\n        </div>\\n        <div class=\"col-md-3\">\\n         <select aria-label=\"Default select example\" class=\"form-select\" id=\"year\">\\n          <option selected=\"\">\\n           Latest\\n          </option>\\n          <option>\\n           2020\\n          </option>\\n          <option>\\n           2019\\n          </option>\\n         </select>\\n        </div>\\n        <div class=\"col-md-3\">\\n         <select aria-label=\"Default select example\" class=\"form-select\" id=\"cat\">\\n          <option selected=\"\">\\n           All Categories\\n          </option>\\n          <option>\\n           Feature Stories\\n          </option>\\n          <option>\\n           Press Releases\\n          </option>\\n          <option>\\n           Status Reports\\n          </option>\\n         </select>\\n        </div>\\n        <div class=\"col-md-3\">\\n        </div>\\n       </div>\\n      </div>\\n     </div>\\n    </section>\\n    <section class=\"image_and_description_container\">\\n     <div class=\"container\" id=\"news\">\\n      <div class=\"col-md-12\">\\n       <hr/>\\n       <div class=\"row\">\\n        <div class=\"col-md-4\">\\n         <div class=\"list_image\">\\n          <img src=\"https://mars.nasa.gov/system/news_items/list_view_images/8712_PIA23720-320x240.jpg\"/>\\n         </div>\\n        </div>\\n        <div class=\"col-md-8\">\\n         <div class=\"list_text\">\\n          <div class=\"list_date\">\\n           December 19, 2022\\n          </div>\\n          <div class=\"content_title\">\\n           6 Things to Know About NASA\\'s Ingenuity Mars Helicopter\\n          </div>\\n          <div class=\"article_teaser_body\">\\n           The first helicopter attempting to fly on another planet is a marvel of engineering. Get up to speed with these key facts about its plans.\\n          </div>\\n         </div>\\n        </div>\\n       </div>\\n      </div>\\n      <div class=\"col-md-12\">\\n       <hr/>\\n       <div class=\"row\">\\n        <div class=\"col-md-4\">\\n         <div class=\"list_image\">\\n          <img src=\"https://mars.nasa.gov/system/news_items/list_view_images/8677_airplane20200521-320.jpg\"/>\\n         </div>\\n        </div>\\n        <div class=\"col-md-8\">\\n         <div class=\"list_text\">\\n          <div class=\"list_date\">\\n           December 18, 2022\\n          </div>\\n          <div class=\"content_title\">\\n           Air Deliveries Bring NASA\\'s Perseverance Mars Rover Closer to Launch\\n          </div>\\n          <div class=\"article_teaser_body\">\\n           A NASA Wallops Flight Facility cargo plane transported more than two tons of equipment — including the rover\\'s sample collection tubes — to Florida for this summer\\'s liftoff.\\n          </div>\\n         </div>\\n        </div>\\n       </div>\\n      </div>\\n      <div class=\"col-md-12\">\\n       <hr/>\\n       <div class=\"row\">\\n        <div class=\"col-md-4\">\\n         <div class=\"list_image\">\\n          <img src=\"https://mars.nasa.gov/system/news_items/list_view_images/8819_24759_PIA23491-web.jpg\"/>\\n         </div>\\n        </div>\\n        <div class=\"col-md-8\">\\n         <div class=\"list_text\">\\n          <div class=\"list_date\">\\n           December 15, 2022\\n          </div>\\n          <div class=\"content_title\">\\n           NASA Moves Forward With Campaign to Return Mars Samples to Earth\\n          </div>\\n          <div class=\"article_teaser_body\">\\n           During this next phase, the program will mature critical technologies and make critical design decisions as well as assess industry partnerships.\\n          </div>\\n         </div>\\n        </div>\\n       </div>\\n      </div>\\n      <div class=\"col-md-12\">\\n       <hr/>\\n       <div class=\"row\">\\n        <div class=\"col-md-4\">\\n         <div class=\"list_image\">\\n          <img src=\"https://mars.nasa.gov/system/news_items/list_view_images/8689_PIA23897-320x240.jpg\"/>\\n         </div>\\n        </div>\\n        <div class=\"col-md-8\">\\n         <div class=\"list_text\">\\n          <div class=\"list_date\">\\n           December 14, 2022\\n          </div>\\n          <div class=\"content_title\">\\n           NASA\\'s Mars Rover Drivers Need Your Help\\n          </div>\\n          <div class=\"article_teaser_body\">\\n           Using an online tool to label Martian terrain types, you can train an artificial intelligence algorithm that could improve the way engineers guide the Curiosity rover.\\n          </div>\\n         </div>\\n        </div>\\n       </div>\\n      </div>\\n      <div class=\"col-md-12\">\\n       <hr/>\\n       <div class=\"row\">\\n        <div class=\"col-md-4\">\\n         <div class=\"list_image\">\\n          <img src=\"https://mars.nasa.gov/system/news_items/list_view_images/8798_PIA22109-320.jpg\"/>\\n         </div>\\n        </div>\\n        <div class=\"col-md-8\">\\n         <div class=\"list_text\">\\n          <div class=\"list_date\">\\n           December 14, 2022\\n          </div>\\n          <div class=\"content_title\">\\n           Mars Is Getting a New Robotic Meteorologist\\n          </div>\\n          <div class=\"article_teaser_body\">\\n           Sensors on NASA\\'s Perseverance will help prepare for future human exploration by taking weather measurements and studying dust particles.\\n          </div>\\n         </div>\\n        </div>\\n       </div>\\n      </div>\\n      <div class=\"col-md-12\">\\n       <hr/>\\n       <div class=\"row\">\\n        <div class=\"col-md-4\">\\n         <div class=\"list_image\">\\n          <img src=\"https://mars.nasa.gov/system/news_items/list_view_images/8675_Webby_main_320x240.jpg\"/>\\n         </div>\\n        </div>\\n        <div class=\"col-md-8\">\\n         <div class=\"list_text\">\\n          <div class=\"list_date\">\\n           December 6, 2022\\n          </div>\\n          <div class=\"content_title\">\\n           NASA Wins 4 Webbys, 4 People\\'s Voice Awards\\n          </div>\\n          <div class=\"article_teaser_body\">\\n           Winners include the JPL-managed \"Send Your Name to Mars\" campaign, NASA\\'s Global Climate Change website and Solar System Interactive.\\n          </div>\\n         </div>\\n        </div>\\n       </div>\\n      </div>\\n      <div class=\"col-md-12\">\\n       <hr/>\\n       <div class=\"row\">\\n        <div class=\"col-md-4\">\\n         <div class=\"list_image\">\\n          <img src=\"https://mars.nasa.gov/system/news_items/list_view_images/8545_24679_PIA23470-1041_320x240px.jpg\"/>\\n         </div>\\n        </div>\\n        <div class=\"col-md-8\">\\n         <div class=\"list_text\">\\n          <div class=\"list_date\">\\n           December 4, 2022\\n          </div>\\n          <div class=\"content_title\">\\n           NASA\\'s Mars 2020 Heads Into the Test Chamber\\n          </div>\\n          <div class=\"article_teaser_body\">\\n           In this time-lapse video taken at JPL, engineers move the Mars 2020 rover into a large vacuum chamber for testing in Mars-like environmental conditions.\\n          </div>\\n         </div>\\n        </div>\\n       </div>\\n      </div>\\n      <div class=\"col-md-12\">\\n       <hr/>\\n       <div class=\"row\">\\n        <div class=\"col-md-4\">\\n         <div class=\"list_image\">\\n          <img src=\"https://mars.nasa.gov/system/news_items/list_view_images/8776_PIA24098-320.gif\"/>\\n         </div>\\n        </div>\\n        <div class=\"col-md-8\">\\n         <div class=\"list_text\">\\n          <div class=\"list_date\">\\n           December 3, 2022\\n          </div>\\n          <div class=\"content_title\">\\n           NASA InSight\\'s \\'Mole\\' Is Out of Sight\\n          </div>\\n          <div class=\"article_teaser_body\">\\n           Now that the heat probe is just below the Martian surface, InSight\\'s arm will scoop some additional soil on top to help it keep digging so it can take Mars\\' temperature.\\n          </div>\\n         </div>\\n        </div>\\n       </div>\\n      </div>\\n      <div class=\"col-md-12\">\\n       <hr/>\\n       <div class=\"row\">\\n        <div class=\"col-md-4\">\\n         <div class=\"list_image\">\\n          <img src=\"https://mars.nasa.gov/system/news_items/list_view_images/8630_PIA23768-320x240.jpg\"/>\\n         </div>\\n        </div>\\n        <div class=\"col-md-8\">\\n         <div class=\"list_text\">\\n          <div class=\"list_date\">\\n           December 1, 2022\\n          </div>\\n          <div class=\"content_title\">\\n           NASA\\'s Mars Perseverance Rover Gets Its Sample Handling System\\n          </div>\\n          <div class=\"article_teaser_body\">\\n           The system will be collecting and storing Martian rock and soil. Its installation marks another milestone in the march toward the July launch period.\\n          </div>\\n         </div>\\n        </div>\\n       </div>\\n      </div>\\n      <div class=\"col-md-12\">\\n       <hr/>\\n       <div class=\"row\">\\n        <div class=\"col-md-4\">\\n         <div class=\"list_image\">\\n          <img src=\"https://mars.nasa.gov/system/news_items/list_view_images/8654_MAIN-IMAGE-PIA23881-320x240.jpg\"/>\\n         </div>\\n        </div>\\n        <div class=\"col-md-8\">\\n         <div class=\"list_text\">\\n          <div class=\"list_date\">\\n           November 25, 2022\\n          </div>\\n          <div class=\"content_title\">\\n           How NASA\\'s Perseverance Mars Team Adjusted to Work in the Time of Coronavirus\\n          </div>\\n          <div class=\"article_teaser_body\">\\n           Like much of the rest of the world, the Mars rover team is pushing forward with its mission-critical work while putting the health and safety of their colleagues and community first.\\n          </div>\\n         </div>\\n        </div>\\n       </div>\\n      </div>\\n      <div class=\"col-md-12\">\\n       <hr/>\\n       <div class=\"row\">\\n        <div class=\"col-md-4\">\\n         <div class=\"list_image\">\\n          <img src=\"https://mars.nasa.gov/system/news_items/list_view_images/8506_mars-solar-conjunction-th.jpg\"/>\\n         </div>\\n        </div>\\n        <div class=\"col-md-8\">\\n         <div class=\"list_text\">\\n          <div class=\"list_date\">\\n           November 23, 2022\\n          </div>\\n          <div class=\"content_title\">\\n           What\\'s Mars Solar Conjunction, and Why Does It Matter?\\n          </div>\\n          <div class=\"article_teaser_body\">\\n           NASA spacecraft at Mars are going to be on their own for a few weeks when the Sun comes between Mars and Earth, interrupting communications.\\n          </div>\\n         </div>\\n        </div>\\n       </div>\\n      </div>\\n      <div class=\"col-md-12\">\\n       <hr/>\\n       <div class=\"row\">\\n        <div class=\"col-md-4\">\\n         <div class=\"list_image\">\\n          <img src=\"https://mars.nasa.gov/system/news_items/list_view_images/8735_collage-320.jpg\"/>\\n         </div>\\n        </div>\\n        <div class=\"col-md-8\">\\n         <div class=\"list_text\">\\n          <div class=\"list_date\">\\n           November 20, 2022\\n          </div>\\n          <div class=\"content_title\">\\n           Celebrate Mars Reconnaissance Orbiter\\'s Views From Above\\n          </div>\\n          <div class=\"article_teaser_body\">\\n           Marking its 15th anniversary since launch, one of the oldest spacecraft at the Red Planet has provided glimpses of dust devils, avalanches, and more.\\n          </div>\\n         </div>\\n        </div>\\n       </div>\\n      </div>\\n      <div class=\"col-md-12\">\\n       <hr/>\\n       <div class=\"row\">\\n        <div class=\"col-md-4\">\\n         <div class=\"list_image\">\\n          <img src=\"https://mars.nasa.gov/system/news_items/list_view_images/8528_PIA23376-320x240.jpg\"/>\\n         </div>\\n        </div>\\n        <div class=\"col-md-8\">\\n         <div class=\"list_text\">\\n          <div class=\"list_date\">\\n           November 20, 2022\\n          </div>\\n          <div class=\"content_title\">\\n           HiRISE Views NASA\\'s InSight and Curiosity on Mars\\n          </div>\\n          <div class=\"article_teaser_body\">\\n           New images taken from space offer the clearest orbital glimpse yet of InSight as well as a view of Curiosity rolling along.\\n          </div>\\n         </div>\\n        </div>\\n       </div>\\n      </div>\\n      <div class=\"col-md-12\">\\n       <hr/>\\n       <div class=\"row\">\\n        <div class=\"col-md-4\">\\n         <div class=\"list_image\">\\n          <img src=\"https://mars.nasa.gov/system/news_items/list_view_images/8692_PIA23920-320x240.jpg\"/>\\n         </div>\\n        </div>\\n        <div class=\"col-md-8\">\\n         <div class=\"list_text\">\\n          <div class=\"list_date\">\\n           November 20, 2022\\n          </div>\\n          <div class=\"content_title\">\\n           NASA to Hold Mars 2020 Perseverance Rover Launch Briefing\\n          </div>\\n          <div class=\"article_teaser_body\">\\n           Learn more about the agency\\'s next Red Planet mission during a live event on June 17.\\n          </div>\\n         </div>\\n        </div>\\n       </div>\\n      </div>\\n      <div class=\"col-md-12\">\\n       <hr/>\\n       <div class=\"row\">\\n        <div class=\"col-md-4\">\\n         <div class=\"list_image\">\\n          <img src=\"https://mars.nasa.gov/system/news_items/list_view_images/8505_PIA23275-th.jpg\"/>\\n         </div>\\n        </div>\\n        <div class=\"col-md-8\">\\n         <div class=\"list_text\">\\n          <div class=\"list_date\">\\n           November 19, 2022\\n          </div>\\n          <div class=\"content_title\">\\n           Scientists Explore Outback as Testbed for Mars\\n          </div>\\n          <div class=\"article_teaser_body\">\\n           Australia provides a great place for NASA\\'s Mars 2020 and the ESA-Roscosmos ExoMars scientists to hone techniques in preparation for searching for signs ancient life on Mars.\\n          </div>\\n         </div>\\n        </div>\\n       </div>\\n      </div>\\n     </div>\\n     <hr class=\"container\" style=\"margin: 25px auto;width: 83%;\"/>\\n     <button class=\"btn disable\" id=\"more\" onclick=\"populateContent()\">\\n      More\\n     </button>\\n    </section>\\n    <section class=\"last_news\">\\n     <div class=\"container\">\\n      <div class=\"row\">\\n       <div class=\"col-12\">\\n        <h2>\\n         You Might Also Like\\n        </h2>\\n       </div>\\n       <!--  <a class=\" prev\" href=\"#carouselExampleIndicators2\" role=\"button\" data-slide=\"prev\">\\n                  <i class=\"fas fa-angle-left\"></i>\\n                  </a>\\n                  <a class=\" next\" href=\"#carouselExampleIndicators2\" role=\"button\" data-slide=\"next\">\\n                  <i class=\"fas fa-angle-right\"></i>\\n                  </a> -->\\n       <div class=\"col-12\">\\n        <div class=\"carousel slide\" data-ride=\"carousel\" id=\"carouselExampleIndicators2\">\\n         <div class=\"carousel-inner\">\\n          <div class=\"carousel-item active\">\\n           <div class=\"row\">\\n            <div class=\"col-md-4 mb-3\">\\n             <div class=\"card\">\\n              <img alt=\"100%x280\" class=\"img-fluid\" src=\"https://mars.nasa.gov/system/news_items/main_images/8716_PIA23499-16.jpg\"/>\\n              <div class=\"card-body\">\\n               <p class=\"card-text\">\\n                NASA to Broadcast Mars 2020 Perseverance Launch, Prelaunch Activities\\n               </p>\\n              </div>\\n             </div>\\n            </div>\\n            <div class=\"col-md-4 mb-3\">\\n             <div class=\"card\">\\n              <img alt=\"100%x280\" class=\"img-fluid\" src=\"https://mars.nasa.gov/system/news_items/main_images/8716_PIA23499-16.jpg\"/>\\n              <div class=\"card-body\">\\n               <p class=\"card-text\">\\n                The Launch Is Approaching for NASA\\'s Next Mars Rover, Perseverance\\n               </p>\\n              </div>\\n             </div>\\n            </div>\\n            <div class=\"col-md-4 mb-3\">\\n             <div class=\"card\">\\n              <img alt=\"100%x280\" class=\"img-fluid\" src=\"https://mars.nasa.gov/system/news_items/main_images/8692_PIA23920-web.jpg\"/>\\n              <div class=\"card-body\">\\n               <p class=\"card-text\">\\n                NASA to Hold Mars 2020 Perseverance Rover Launch Briefing\\n               </p>\\n              </div>\\n             </div>\\n            </div>\\n           </div>\\n          </div>\\n          <div class=\"carousel-item\">\\n           <div class=\"row\">\\n            <div class=\"col-md-4 mb-3\">\\n             <div class=\"card\">\\n              <img alt=\"100%x280\" class=\"img-fluid\" src=\"https://images.unsplash.com/photo-1532771098148-525cefe10c23?ixlib=rb-0.3.5&amp;q=80&amp;fm=jpg&amp;crop=entropy&amp;cs=tinysrgb&amp;w=1080&amp;fit=max&amp;ixid=eyJhcHBfaWQiOjMyMDc0fQ&amp;s=3f317c1f7a16116dec454fbc267dd8e4\"/>\\n              <div class=\"card-body\">\\n               <p class=\"card-text\">\\n                With supporting text below as a natural lead-in to additional content.\\n               </p>\\n              </div>\\n             </div>\\n            </div>\\n            <div class=\"col-md-4 mb-3\">\\n             <div class=\"card\">\\n              <img alt=\"100%x280\" class=\"img-fluid\" src=\"https://images.unsplash.com/photo-1532715088550-62f09305f765?ixlib=rb-0.3.5&amp;q=80&amp;fm=jpg&amp;crop=entropy&amp;cs=tinysrgb&amp;w=1080&amp;fit=max&amp;ixid=eyJhcHBfaWQiOjMyMDc0fQ&amp;s=ebadb044b374504ef8e81bdec4d0e840\"/>\\n              <div class=\"card-body\">\\n               <p class=\"card-text\">\\n                With supporting text below as a natural lead-in to additional content.\\n               </p>\\n              </div>\\n             </div>\\n            </div>\\n            <div class=\"col-md-4 mb-3\">\\n             <div class=\"card\">\\n              <img alt=\"100%x280\" class=\"img-fluid\" src=\"https://images.unsplash.com/photo-1506197603052-3cc9c3a201bd?ixlib=rb-0.3.5&amp;q=80&amp;fm=jpg&amp;crop=entropy&amp;cs=tinysrgb&amp;w=1080&amp;fit=max&amp;ixid=eyJhcHBfaWQiOjMyMDc0fQ&amp;s=0754ab085804ae8a3b562548e6b4aa2e\"/>\\n              <div class=\"card-body\">\\n               <p class=\"card-text\">\\n                With supporting text below as a natural lead-in to additional content.\\n               </p>\\n              </div>\\n             </div>\\n            </div>\\n           </div>\\n          </div>\\n          <div class=\"carousel-item\">\\n           <div class=\"row\">\\n            <div class=\"col-md-4 mb-3\">\\n             <div class=\"card\">\\n              <img alt=\"100%x280\" class=\"img-fluid\" src=\"https://images.unsplash.com/photo-1507525428034-b723cf961d3e?ixlib=rb-0.3.5&amp;q=80&amp;fm=jpg&amp;crop=entropy&amp;cs=tinysrgb&amp;w=1080&amp;fit=max&amp;ixid=eyJhcHBfaWQiOjMyMDc0fQ&amp;s=ee8417f0ea2a50d53a12665820b54e23\"/>\\n              <div class=\"card-body\">\\n               <p class=\"card-text\">\\n                With supporting text below as a natural lead-in to additional content.\\n               </p>\\n              </div>\\n             </div>\\n            </div>\\n            <div class=\"col-md-4 mb-3\">\\n             <div class=\"card\">\\n              <img alt=\"100%x280\" class=\"img-fluid\" src=\"https://images.unsplash.com/photo-1532777946373-b6783242f211?ixlib=rb-0.3.5&amp;q=80&amp;fm=jpg&amp;crop=entropy&amp;cs=tinysrgb&amp;w=1080&amp;fit=max&amp;ixid=eyJhcHBfaWQiOjMyMDc0fQ&amp;s=8ac55cf3a68785643998730839663129\"/>\\n              <div class=\"card-body\">\\n               <p class=\"card-text\">\\n                With supporting text below as a natural lead-in to additional content.\\n               </p>\\n              </div>\\n             </div>\\n            </div>\\n            <div class=\"col-md-4 mb-3\">\\n             <div class=\"card\">\\n              <img alt=\"100%x280\" class=\"img-fluid\" src=\"https://images.unsplash.com/photo-1532763303805-529d595877c5?ixlib=rb-0.3.5&amp;q=80&amp;fm=jpg&amp;crop=entropy&amp;cs=tinysrgb&amp;w=1080&amp;fit=max&amp;ixid=eyJhcHBfaWQiOjMyMDc0fQ&amp;s=5ee4fd5d19b40f93eadb21871757eda6\"/>\\n              <div class=\"card-body\">\\n               <p class=\"card-text\">\\n                With supporting text below as a natural lead-in to additional content.\\n               </p>\\n              </div>\\n             </div>\\n            </div>\\n           </div>\\n          </div>\\n         </div>\\n        </div>\\n       </div>\\n      </div>\\n     </div>\\n    </section>\\n    <section class=\"footer\">\\n     <div class=\"container\">\\n      <div class=\"col-md-12\">\\n       <div class=\"row\">\\n        <div class=\"col-md-3\">\\n         <h5>\\n          The Red Planet\\n         </h5>\\n         <ul>\\n          <li>\\n           Dashboard\\n          </li>\\n          <li>\\n           Science Goals\\n          </li>\\n          <li>\\n           The Planet\\n          </li>\\n         </ul>\\n        </div>\\n        <div class=\"col-md-3\">\\n         <h5>\\n          The Program\\n         </h5>\\n         <ul>\\n          <li>\\n           Mission Statement\\n          </li>\\n          <li>\\n           About the Program\\n          </li>\\n          <li>\\n           Organization Why Mars?\\n          </li>\\n         </ul>\\n        </div>\\n        <div class=\"col-md-3\">\\n         <h5>\\n          Multimedia\\n         </h5>\\n         <ul>\\n          <li>\\n           Images\\n          </li>\\n          <li>\\n           Videos\\n          </li>\\n          <li>\\n           More Resources\\n          </li>\\n         </ul>\\n        </div>\\n        <div class=\"col-md-3\">\\n         <h5>\\n          Missions\\n         </h5>\\n         <ul>\\n          <li>\\n           Past\\n          </li>\\n          <li>\\n           Present\\n          </li>\\n          <li>\\n           Future\\n          </li>\\n         </ul>\\n        </div>\\n       </div>\\n      </div>\\n     </div>\\n    </section>\\n    <script src=\"https://code.jquery.com/jquery-1.12.4.min.js\" type=\"text/javascript\">\\n    </script>\\n    <script src=\"https://cdn.jsdelivr.net/npm/@popperjs/core@2.5.4/dist/umd/popper.min.js\">\\n    </script>\\n    <script src=\"https://cdn.jsdelivr.net/npm/bootstrap@5.0.0-beta1/dist/js/bootstrap.min.js\">\\n    </script>\\n    <script src=\"js/app.js\">\\n    </script>\\n   </div>\\n  </div>\\n </body>\\n</html>'"
      ]
     },
     "execution_count": 35,
     "metadata": {},
     "output_type": "execute_result"
    }
   ],
   "source": [
    "# Create a Beautiful Soup object\n",
    "soup = BeautifulSoup(browser.html, \"html.parser\")\n",
    "soup.prettify()"
   ]
  },
  {
   "cell_type": "code",
   "execution_count": 36,
   "metadata": {},
   "outputs": [
    {
     "name": "stdout",
     "output_type": "stream",
     "text": [
      "[<div class=\"list_text\">\n",
      "<div class=\"list_date\">December 19, 2022</div>\n",
      "<div class=\"content_title\">6 Things to Know About NASA's Ingenuity Mars Helicopter</div>\n",
      "<div class=\"article_teaser_body\">The first helicopter attempting to fly on another planet is a marvel of engineering. Get up to speed with these key facts about its plans.</div>\n",
      "</div>, <div class=\"list_text\">\n",
      "<div class=\"list_date\">December 18, 2022</div>\n",
      "<div class=\"content_title\">Air Deliveries Bring NASA's Perseverance Mars Rover Closer to Launch</div>\n",
      "<div class=\"article_teaser_body\">A NASA Wallops Flight Facility cargo plane transported more than two tons of equipment — including the rover's sample collection tubes — to Florida for this summer's liftoff.</div>\n",
      "</div>, <div class=\"list_text\">\n",
      "<div class=\"list_date\">December 15, 2022</div>\n",
      "<div class=\"content_title\">NASA Moves Forward With Campaign to Return Mars Samples to Earth</div>\n",
      "<div class=\"article_teaser_body\">During this next phase, the program will mature critical technologies and make critical design decisions as well as assess industry partnerships.</div>\n",
      "</div>, <div class=\"list_text\">\n",
      "<div class=\"list_date\">December 14, 2022</div>\n",
      "<div class=\"content_title\">NASA's Mars Rover Drivers Need Your Help</div>\n",
      "<div class=\"article_teaser_body\">Using an online tool to label Martian terrain types, you can train an artificial intelligence algorithm that could improve the way engineers guide the Curiosity rover.</div>\n",
      "</div>, <div class=\"list_text\">\n",
      "<div class=\"list_date\">December 14, 2022</div>\n",
      "<div class=\"content_title\">Mars Is Getting a New Robotic Meteorologist</div>\n",
      "<div class=\"article_teaser_body\">Sensors on NASA's Perseverance will help prepare for future human exploration by taking weather measurements and studying dust particles.</div>\n",
      "</div>, <div class=\"list_text\">\n",
      "<div class=\"list_date\">December 6, 2022</div>\n",
      "<div class=\"content_title\">NASA Wins 4 Webbys, 4 People's Voice Awards</div>\n",
      "<div class=\"article_teaser_body\">Winners include the JPL-managed \"Send Your Name to Mars\" campaign, NASA's Global Climate Change website and Solar System Interactive.</div>\n",
      "</div>, <div class=\"list_text\">\n",
      "<div class=\"list_date\">December 4, 2022</div>\n",
      "<div class=\"content_title\">NASA's Mars 2020 Heads Into the Test Chamber</div>\n",
      "<div class=\"article_teaser_body\">In this time-lapse video taken at JPL, engineers move the Mars 2020 rover into a large vacuum chamber for testing in Mars-like environmental conditions.</div>\n",
      "</div>, <div class=\"list_text\">\n",
      "<div class=\"list_date\">December 3, 2022</div>\n",
      "<div class=\"content_title\">NASA InSight's 'Mole' Is Out of Sight</div>\n",
      "<div class=\"article_teaser_body\">Now that the heat probe is just below the Martian surface, InSight's arm will scoop some additional soil on top to help it keep digging so it can take Mars' temperature.</div>\n",
      "</div>, <div class=\"list_text\">\n",
      "<div class=\"list_date\">December 1, 2022</div>\n",
      "<div class=\"content_title\">NASA's Mars Perseverance Rover Gets Its Sample Handling System</div>\n",
      "<div class=\"article_teaser_body\">The system will be collecting and storing Martian rock and soil. Its installation marks another milestone in the march toward the July launch period.</div>\n",
      "</div>, <div class=\"list_text\">\n",
      "<div class=\"list_date\">November 25, 2022</div>\n",
      "<div class=\"content_title\">How NASA's Perseverance Mars Team Adjusted to Work in the Time of Coronavirus </div>\n",
      "<div class=\"article_teaser_body\">Like much of the rest of the world, the Mars rover team is pushing forward with its mission-critical work while putting the health and safety of their colleagues and community first.</div>\n",
      "</div>, <div class=\"list_text\">\n",
      "<div class=\"list_date\">November 23, 2022</div>\n",
      "<div class=\"content_title\">What's Mars Solar Conjunction, and Why Does It Matter?</div>\n",
      "<div class=\"article_teaser_body\">NASA spacecraft at Mars are going to be on their own for a few weeks when the Sun comes between Mars and Earth, interrupting communications.</div>\n",
      "</div>, <div class=\"list_text\">\n",
      "<div class=\"list_date\">November 20, 2022</div>\n",
      "<div class=\"content_title\">Celebrate Mars Reconnaissance Orbiter's Views From Above</div>\n",
      "<div class=\"article_teaser_body\">Marking its 15th anniversary since launch, one of the oldest spacecraft at the Red Planet has provided glimpses of dust devils, avalanches, and more.</div>\n",
      "</div>, <div class=\"list_text\">\n",
      "<div class=\"list_date\">November 20, 2022</div>\n",
      "<div class=\"content_title\">HiRISE Views NASA's InSight and Curiosity on Mars</div>\n",
      "<div class=\"article_teaser_body\">New images taken from space offer the clearest orbital glimpse yet of InSight as well as a view of Curiosity rolling along.</div>\n",
      "</div>, <div class=\"list_text\">\n",
      "<div class=\"list_date\">November 20, 2022</div>\n",
      "<div class=\"content_title\">NASA to Hold Mars 2020 Perseverance Rover Launch Briefing</div>\n",
      "<div class=\"article_teaser_body\">Learn more about the agency's next Red Planet mission during a live event on June 17.</div>\n",
      "</div>, <div class=\"list_text\">\n",
      "<div class=\"list_date\">November 19, 2022</div>\n",
      "<div class=\"content_title\">Scientists Explore Outback as Testbed for Mars </div>\n",
      "<div class=\"article_teaser_body\">Australia provides a great place for NASA's Mars 2020 and the ESA-Roscosmos ExoMars scientists to hone techniques in preparation for searching for signs ancient life on Mars.</div>\n",
      "</div>]\n"
     ]
    }
   ],
   "source": [
    "# Extract all the text elements\n",
    "souper = soup.find_all('div', class_='list_text')\n",
    "print(souper)\n"
   ]
  },
  {
   "cell_type": "markdown",
   "metadata": {},
   "source": [
    "### Step 3: Store the Results\n",
    "\n",
    "Extract the titles and preview text of the news articles that you scraped. Store the scraping results in Python data structures as follows:\n",
    "\n",
    "* Store each title-and-preview pair in a Python dictionary. And, give each dictionary two keys: `title` and `preview`. An example is the following:\n",
    "\n",
    "  ```python\n",
    "  {'title': \"Mars Rover Begins Mission!\", \n",
    "        'preview': \"NASA's Mars Rover begins a multiyear mission to collect data about the little-explored planet.\"}\n",
    "  ```\n",
    "\n",
    "* Store all the dictionaries in a Python list.\n",
    "\n",
    "* Print the list in your notebook."
   ]
  },
  {
   "cell_type": "code",
   "execution_count": 37,
   "metadata": {},
   "outputs": [],
   "source": [
    "# Create an empty list to store the dictionaries\n",
    "list = []"
   ]
  },
  {
   "cell_type": "code",
   "execution_count": 40,
   "metadata": {},
   "outputs": [
    {
     "data": {
      "text/plain": [
       "[{'title': \"6 Things to Know About NASA's Ingenuity Mars Helicopter\",\n",
       "  'preview': 'The first helicopter attempting to fly on another planet is a marvel of engineering. Get up to speed with these key facts about its plans.'},\n",
       " {'title': \"Air Deliveries Bring NASA's Perseverance Mars Rover Closer to Launch\",\n",
       "  'preview': \"A NASA Wallops Flight Facility cargo plane transported more than two tons of equipment — including the rover's sample collection tubes — to Florida for this summer's liftoff.\"},\n",
       " {'title': 'NASA Moves Forward With Campaign to Return Mars Samples to Earth',\n",
       "  'preview': 'During this next phase, the program will mature critical technologies and make critical design decisions as well as assess industry partnerships.'},\n",
       " {'title': \"NASA's Mars Rover Drivers Need Your Help\",\n",
       "  'preview': 'Using an online tool to label Martian terrain types, you can train an artificial intelligence algorithm that could improve the way engineers guide the Curiosity rover.'},\n",
       " {'title': 'Mars Is Getting a New Robotic Meteorologist',\n",
       "  'preview': \"Sensors on NASA's Perseverance will help prepare for future human exploration by taking weather measurements and studying dust particles.\"},\n",
       " {'title': \"NASA Wins 4 Webbys, 4 People's Voice Awards\",\n",
       "  'preview': 'Winners include the JPL-managed \"Send Your Name to Mars\" campaign, NASA\\'s Global Climate Change website and Solar System Interactive.'},\n",
       " {'title': \"NASA's Mars 2020 Heads Into the Test Chamber\",\n",
       "  'preview': 'In this time-lapse video taken at JPL, engineers move the Mars 2020 rover into a large vacuum chamber for testing in Mars-like environmental conditions.'},\n",
       " {'title': \"NASA InSight's 'Mole' Is Out of Sight\",\n",
       "  'preview': \"Now that the heat probe is just below the Martian surface, InSight's arm will scoop some additional soil on top to help it keep digging so it can take Mars' temperature.\"},\n",
       " {'title': \"NASA's Mars Perseverance Rover Gets Its Sample Handling System\",\n",
       "  'preview': 'The system will be collecting and storing Martian rock and soil. Its installation marks another milestone in the march toward the July launch period.'},\n",
       " {'title': \"How NASA's Perseverance Mars Team Adjusted to Work in the Time of Coronavirus \",\n",
       "  'preview': 'Like much of the rest of the world, the Mars rover team is pushing forward with its mission-critical work while putting the health and safety of their colleagues and community first.'},\n",
       " {'title': \"What's Mars Solar Conjunction, and Why Does It Matter?\",\n",
       "  'preview': 'NASA spacecraft at Mars are going to be on their own for a few weeks when the Sun comes between Mars and Earth, interrupting communications.'},\n",
       " {'title': \"Celebrate Mars Reconnaissance Orbiter's Views From Above\",\n",
       "  'preview': 'Marking its 15th anniversary since launch, one of the oldest spacecraft at the Red Planet has provided glimpses of dust devils, avalanches, and more.'},\n",
       " {'title': \"HiRISE Views NASA's InSight and Curiosity on Mars\",\n",
       "  'preview': 'New images taken from space offer the clearest orbital glimpse yet of InSight as well as a view of Curiosity rolling along.'},\n",
       " {'title': 'NASA to Hold Mars 2020 Perseverance Rover Launch Briefing',\n",
       "  'preview': \"Learn more about the agency's next Red Planet mission during a live event on June 17.\"},\n",
       " {'title': 'Scientists Explore Outback as Testbed for Mars ',\n",
       "  'preview': \"Australia provides a great place for NASA's Mars 2020 and the ESA-Roscosmos ExoMars scientists to hone techniques in preparation for searching for signs ancient life on Mars.\"},\n",
       " {'title': \"6 Things to Know About NASA's Ingenuity Mars Helicopter\",\n",
       "  'preview': 'The first helicopter attempting to fly on another planet is a marvel of engineering. Get up to speed with these key facts about its plans.'},\n",
       " {'title': \"Air Deliveries Bring NASA's Perseverance Mars Rover Closer to Launch\",\n",
       "  'preview': \"A NASA Wallops Flight Facility cargo plane transported more than two tons of equipment — including the rover's sample collection tubes — to Florida for this summer's liftoff.\"},\n",
       " {'title': 'NASA Moves Forward With Campaign to Return Mars Samples to Earth',\n",
       "  'preview': 'During this next phase, the program will mature critical technologies and make critical design decisions as well as assess industry partnerships.'},\n",
       " {'title': \"NASA's Mars Rover Drivers Need Your Help\",\n",
       "  'preview': 'Using an online tool to label Martian terrain types, you can train an artificial intelligence algorithm that could improve the way engineers guide the Curiosity rover.'},\n",
       " {'title': 'Mars Is Getting a New Robotic Meteorologist',\n",
       "  'preview': \"Sensors on NASA's Perseverance will help prepare for future human exploration by taking weather measurements and studying dust particles.\"},\n",
       " {'title': \"NASA Wins 4 Webbys, 4 People's Voice Awards\",\n",
       "  'preview': 'Winners include the JPL-managed \"Send Your Name to Mars\" campaign, NASA\\'s Global Climate Change website and Solar System Interactive.'},\n",
       " {'title': \"NASA's Mars 2020 Heads Into the Test Chamber\",\n",
       "  'preview': 'In this time-lapse video taken at JPL, engineers move the Mars 2020 rover into a large vacuum chamber for testing in Mars-like environmental conditions.'},\n",
       " {'title': \"NASA InSight's 'Mole' Is Out of Sight\",\n",
       "  'preview': \"Now that the heat probe is just below the Martian surface, InSight's arm will scoop some additional soil on top to help it keep digging so it can take Mars' temperature.\"},\n",
       " {'title': \"NASA's Mars Perseverance Rover Gets Its Sample Handling System\",\n",
       "  'preview': 'The system will be collecting and storing Martian rock and soil. Its installation marks another milestone in the march toward the July launch period.'},\n",
       " {'title': \"How NASA's Perseverance Mars Team Adjusted to Work in the Time of Coronavirus \",\n",
       "  'preview': 'Like much of the rest of the world, the Mars rover team is pushing forward with its mission-critical work while putting the health and safety of their colleagues and community first.'},\n",
       " {'title': \"What's Mars Solar Conjunction, and Why Does It Matter?\",\n",
       "  'preview': 'NASA spacecraft at Mars are going to be on their own for a few weeks when the Sun comes between Mars and Earth, interrupting communications.'},\n",
       " {'title': \"Celebrate Mars Reconnaissance Orbiter's Views From Above\",\n",
       "  'preview': 'Marking its 15th anniversary since launch, one of the oldest spacecraft at the Red Planet has provided glimpses of dust devils, avalanches, and more.'},\n",
       " {'title': \"HiRISE Views NASA's InSight and Curiosity on Mars\",\n",
       "  'preview': 'New images taken from space offer the clearest orbital glimpse yet of InSight as well as a view of Curiosity rolling along.'},\n",
       " {'title': 'NASA to Hold Mars 2020 Perseverance Rover Launch Briefing',\n",
       "  'preview': \"Learn more about the agency's next Red Planet mission during a live event on June 17.\"},\n",
       " {'title': 'Scientists Explore Outback as Testbed for Mars ',\n",
       "  'preview': \"Australia provides a great place for NASA's Mars 2020 and the ESA-Roscosmos ExoMars scientists to hone techniques in preparation for searching for signs ancient life on Mars.\"}]"
      ]
     },
     "execution_count": 40,
     "metadata": {},
     "output_type": "execute_result"
    }
   ],
   "source": [
    "# Loop through the text elements\n",
    "for s in souper:  \n",
    "    # Extract the title and preview text from the elements\n",
    "    title = s.find('div', class_='content_title').text\n",
    "\n",
    "    preview = s.find('div', class_ = 'article_teaser_body').text\n",
    "\n",
    "    #if (title and preview): \n",
    "            #print('---------------')\n",
    "            #print(\"Title\", title)\n",
    "            #print(\"Preview\", preview)\n",
    "    # Store each title and preview pair in a dictionary\n",
    "    p_t= {\n",
    "            \"title\": title, \n",
    "            \"preview\": preview\n",
    "        }\n",
    "    # Add the dictionary to the list\n",
    "    list.append(p_t)\n",
    "# Print the list to confirm success\n",
    "list\n"
   ]
  },
  {
   "cell_type": "code",
   "execution_count": 41,
   "metadata": {},
   "outputs": [],
   "source": [
    "browser.quit()"
   ]
  },
  {
   "cell_type": "markdown",
   "metadata": {},
   "source": [
    "### (Optional) Step 4: Export the Data\n",
    "\n",
    "Optionally, store the scraped data in a file or database (to ease sharing the data with others). To do so, export the scraped data to either a JSON file or a MongoDB database."
   ]
  },
  {
   "cell_type": "code",
   "execution_count": null,
   "metadata": {},
   "outputs": [],
   "source": [
    "# Export data to MongoDB\n"
   ]
  }
 ],
 "metadata": {
  "kernelspec": {
   "display_name": "base",
   "language": "python",
   "name": "python3"
  },
  "language_info": {
   "codemirror_mode": {
    "name": "ipython",
    "version": 3
   },
   "file_extension": ".py",
   "mimetype": "text/x-python",
   "name": "python",
   "nbconvert_exporter": "python",
   "pygments_lexer": "ipython3",
   "version": "3.9.12 (main, Apr  4 2022, 05:22:27) [MSC v.1916 64 bit (AMD64)]"
  },
  "vscode": {
   "interpreter": {
    "hash": "5a28d4ef974f98ec68cd1ec8d370fdb002e6acfd68d2dd44e60697d887626ddc"
   }
  }
 },
 "nbformat": 4,
 "nbformat_minor": 4
}
